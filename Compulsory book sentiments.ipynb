{
 "cells": [
  {
   "cell_type": "code",
   "execution_count": 1,
   "id": "1d54e3f8",
   "metadata": {},
   "outputs": [],
   "source": [
    "import matplotlib.pyplot as plt\n",
    "from matplotlib import pyplot\n",
    "import numpy as np\n",
    "import re\n",
    "from sklearn.feature_extraction.text import TfidfVectorizer\n",
    "from sklearn.svm import LinearSVC\n",
    "from sklearn.metrics import classification_report\n",
    "import seaborn as sb\n",
    "from sklearn.preprocessing import StandardScaler\n",
    "from sklearn.svm import SVC\n",
    "from sklearn.metrics import confusion_matrix, precision_score, recall_score, f1_score\n",
    "from sklearn.model_selection import train_test_split\n",
    "from sklearn.linear_model import LogisticRegression"
   ]
  },
  {
   "cell_type": "code",
   "execution_count": 2,
   "id": "89073bd9",
   "metadata": {},
   "outputs": [],
   "source": [
    "# Make results reproducible - set random seed\n",
    "from numpy.random import seed\n",
    "seed(42)"
   ]
  },
  {
   "cell_type": "code",
   "execution_count": 3,
   "id": "601019d6",
   "metadata": {},
   "outputs": [],
   "source": [
    "negative_file = \"negative.txt\"\n",
    "positive_file = \"positive.txt\""
   ]
  },
  {
   "cell_type": "code",
   "execution_count": 4,
   "id": "dd90b3f6",
   "metadata": {},
   "outputs": [],
   "source": [
    "# Do not modify - helper function to load and preprocess data\n",
    "def filter_words(line):    \n",
    "    line = re.sub(r'[^\\w\\s]','',line.rstrip())\n",
    "    words = line.split(\" \") \n",
    "    words = [i.lower() for i in words if i]      \n",
    "    return \" \".join(words)\n",
    "\n",
    "def load_data(filename):\n",
    "    thefile = open(filename, 'r') \n",
    "    lines = thefile.readlines() \n",
    "\n",
    "    data = []\n",
    "    for l in range(0,len(lines)): \n",
    "        if(lines[l-1].strip() == \"<title>\"): \n",
    "            theline = filter_words(lines[l])\n",
    "            if(len(theline) < 50):\n",
    "                data.append(theline)            \n",
    "            \n",
    "    return data\n",
    "\n",
    "# Helper function to convert categorical data to class label\n",
    "def to_word_label(y):\n",
    "    y = to_class(y)   \n",
    "    return [\"positive\" if i==0 else \"negative\" for i in y]\n",
    "\n",
    "# Helper function to convert class label to numeric label\n",
    "def to_numeric_label(y):\n",
    "  return [0 if i==\"positive\" else 1 for i in word_labels]\n",
    "\n",
    "# Helper function: this function needs to be called before sending arrays to sklearn metrics,\n",
    "# it converts back to class form from categorical form. ie: [1,0] --> 0, [0,1] --> 1\n",
    "def to_class(y):\n",
    "    return np.argmax(y,axis=1) "
   ]
  },
  {
   "cell_type": "code",
   "execution_count": 5,
   "id": "41644bc6",
   "metadata": {},
   "outputs": [
    {
     "name": "stdout",
     "output_type": "stream",
     "text": [
      "['one of the best crichton novels', 'the medicine of the future', 'beautiful', 'for lovers of robicheaux', 'a good book', 'to the point and beautifully illustrated', 'at least somebody has got it', 'beautifully written heartwarming story', 'an excellent cookbook full of delicious recipes', 'an outstanding resource']\n",
      "['horrible book horrible', 'shallow selfindulgence', 'horrible book horrible', 'disappointment', 'a disappointing mess', 'save your money there are better books out there', 'thank you but no thanks', 'unendurable', 'the hard way', 'some good info among the political commercial']\n"
     ]
    }
   ],
   "source": [
    "positive = load_data(positive_file)\n",
    "negative = load_data(negative_file)\n",
    "\n",
    "print(positive[0:10])\n",
    "print(negative[0:10])"
   ]
  },
  {
   "cell_type": "code",
   "execution_count": 6,
   "id": "95553877",
   "metadata": {},
   "outputs": [],
   "source": [
    "# Do not modify - Combines the positive and negative reviews into a single list and create labels\n",
    "data = positive + negative\n",
    "word_labels = [\"positive\"] * len(positive) + [\"negative\"] * len(negative) \n",
    "\n",
    "# Converts labels to numbers in one-hot encoding - [1, 0] (positive) or [0, 1] (negative)\n",
    "from tensorflow.keras.utils import to_categorical\n",
    "labels  = to_categorical(to_numeric_label(word_labels))\n"
   ]
  },
  {
   "cell_type": "code",
   "execution_count": 7,
   "id": "17693a8d",
   "metadata": {},
   "outputs": [],
   "source": [
    "# - Calculate and report the mean review size, its standard deviation and create a boxplot."
   ]
  },
  {
   "cell_type": "code",
   "execution_count": 8,
   "id": "998bb2ac",
   "metadata": {},
   "outputs": [
    {
     "name": "stdout",
     "output_type": "stream",
     "text": [
      "[31, 26, 9, 24, 11, 40, 28, 38, 47, 23, 23, 5, 36, 25, 27, 20, 33, 35, 8, 11, 21, 40, 35, 18, 9, 16, 15, 12, 30, 32, 48, 18, 32, 31, 36, 20, 16, 34, 28, 18, 19, 22, 36, 21, 27, 13, 31, 47, 27, 42, 23, 13, 30, 33, 20, 11, 40, 24, 9, 14, 24, 18, 43, 25, 20, 32, 14, 31, 15, 13, 21, 11, 37, 20, 30, 18, 19, 14, 17, 46, 9, 19, 22, 14, 35, 36, 29, 8, 46, 37, 28, 23, 20, 29, 17, 13, 30, 44, 27, 38, 9, 38, 26, 48, 25, 21, 25, 9, 38, 27, 14, 40, 28, 42, 23, 14, 19, 39, 12, 25, 30, 11, 32, 39, 16, 16, 13, 20, 13, 20, 23, 14, 12, 40, 21, 35, 9, 10, 34, 17, 19, 27, 25, 33, 16, 26, 12, 9, 20, 19, 40, 30, 8, 15, 44, 34, 26, 17, 19, 39, 23, 16, 10, 14, 18, 34, 35, 30, 48, 38, 20, 17, 23, 4, 25, 30, 14, 13, 12, 18, 35, 35, 36, 47, 21, 12, 25, 19, 13, 28, 36, 7, 21, 25, 13, 28, 39, 19, 30, 23, 29, 10, 26, 9, 27, 31, 7, 47, 19, 15, 15, 12, 29, 7, 38, 33, 31, 14, 14, 21, 27, 35, 13, 18, 17, 29, 4, 30, 19, 9, 10, 17, 24, 20, 43, 11, 31, 25, 9, 26, 18, 24, 24, 26, 25, 31, 24, 11, 33, 9, 15, 9, 44, 29, 5, 36, 9, 24, 42, 30, 16, 45, 49, 34, 32, 25, 12, 30, 16, 36, 30, 22, 10, 15, 48, 22, 13, 28, 32, 47, 19, 48, 10, 12, 37, 19, 32, 22, 11, 28, 36, 23, 17, 43, 26, 28, 45, 41, 46, 23, 18, 19, 20, 30, 32, 37, 22, 24, 18, 16, 30, 15, 23, 46, 4, 24, 15, 36, 17, 14, 24, 16, 34, 18, 26, 35, 17, 16, 40, 45, 19, 33, 22, 10, 33, 28, 34, 14, 35, 14, 31, 4, 42, 17, 30, 22, 22, 19, 18, 18, 18, 34, 45, 20, 30, 13, 19, 9, 36, 7, 29, 14, 15, 37, 46, 35, 9, 21, 33, 31, 49, 17, 42, 10, 23, 33, 19, 39, 22, 16, 22, 32, 16, 17, 18, 13, 35, 22, 29, 17, 12, 7, 25, 36, 43, 9, 46, 10, 29, 31, 44, 14, 20, 28, 31, 22, 27, 38, 23, 15, 18, 24, 20, 23, 22, 14, 44, 16, 9, 19, 30, 29, 25, 34, 25, 25, 20, 24, 26, 15, 27, 13, 34, 16, 46, 20, 27, 11, 31, 16, 8, 17, 18, 36, 9, 35, 20, 16, 13, 32, 18, 22, 8, 33, 37, 22, 30, 18, 18, 19, 7, 39, 36, 40, 47, 42, 38, 14, 11, 27, 10, 15, 30, 35, 40, 12, 37, 11, 28, 26, 22, 44, 37, 23, 3, 21, 32, 41, 43, 25, 34, 38, 39, 22, 23, 10, 21, 10, 42, 19, 27, 25, 10, 8, 34, 15, 25, 44, 30, 16, 29, 16, 35, 31, 45, 18, 16, 3, 31, 48, 13, 33, 27, 46, 47, 30, 14, 29, 25, 43, 16, 44, 26, 27, 14, 8, 6, 25, 9, 22, 30, 36, 17, 28, 23, 20, 3, 45, 49, 17, 20, 11, 12, 46, 46, 30, 24, 31, 35, 20, 43, 41, 7, 12, 11, 18, 26, 22, 44, 43, 11, 43, 14, 32, 20, 19, 29, 45, 31, 17, 20, 25, 46, 15, 32, 26, 42, 22, 27, 38, 29, 14, 9, 42, 14, 21, 43, 27, 22, 25, 21, 13, 9, 14, 16, 13, 23, 20, 12, 21, 20, 47, 45, 27, 9, 28, 29, 10, 18, 9, 13, 20, 34, 37, 20, 19, 25, 30, 42, 13, 14, 39, 16, 45, 36, 28, 22, 22, 16, 33, 37, 32, 20, 29, 26, 35, 14, 42, 26, 17, 17, 18, 34, 33, 19, 23, 39, 24, 45, 18, 21, 17, 30, 18, 10, 33, 43, 19, 49, 11, 27, 38, 23, 48, 41, 13, 10, 25, 47, 14, 41, 44, 23, 26, 17, 23, 20, 18, 9, 43, 24, 25, 13, 34, 30, 18, 18, 46, 41, 12, 38, 9, 14, 45, 28, 27, 34, 17, 14, 12, 17, 8, 24, 11, 39, 8, 12, 10, 20, 39, 12, 6, 35, 16, 36, 48, 42, 28, 21, 24, 17, 11, 15, 49, 38, 17, 32, 19, 32, 11, 17, 24, 28, 15, 7, 20, 10, 28, 20, 27, 27, 31, 43, 49, 14, 30, 3, 8, 45, 43, 23, 10, 17, 27, 15, 12, 42, 31, 14, 46, 28, 20, 16, 24, 44, 22, 26, 45, 35, 11, 27, 25, 27, 15, 32, 38, 11, 32, 28, 26, 38, 29, 15, 22, 23, 12, 48, 21, 32, 23, 10, 27, 22, 26, 35, 9, 17, 18, 19, 20, 16, 34, 24, 20, 14, 40, 36, 21, 7, 25, 43, 10, 25, 18, 38, 8, 34, 26, 20, 21, 39, 21, 30, 14, 11, 13, 9, 5, 7, 9, 40, 39, 24, 27, 10, 15, 17, 14, 16, 19, 23, 24, 16, 31, 23, 5, 33, 19, 17, 24, 26, 21, 48, 13, 9, 17, 10, 41, 48, 40, 15, 17, 22, 22, 22, 14, 20, 48, 23, 11, 12, 45, 16, 47, 20, 7, 32, 27, 10, 38, 36, 49, 32, 31, 21, 21, 22, 46, 2, 17, 30, 12, 38, 10, 31, 13, 35, 42, 45, 10, 8, 32, 21, 10, 20, 41, 20, 37, 17, 45, 25, 25, 18, 22, 15, 20, 31, 19, 41, 21, 29, 17, 44, 18, 16, 17, 15, 27, 26, 31, 32, 22, 22, 24, 25, 15, 32, 17, 23, 16, 15, 38, 47, 37, 22, 31, 19, 47, 34, 20, 15, 16, 30, 21, 6, 17, 14, 28, 10, 49, 21, 21, 17, 35, 29, 22, 22, 29, 8, 25, 33, 10, 16, 18, 25, 38, 10, 42, 36, 23, 9, 8, 13, 42, 11, 4, 12, 26, 25, 20, 47, 21, 12, 10, 18, 19, 13, 15, 40, 35, 10, 30, 20, 30, 21, 34, 13, 46, 43, 23, 19, 5, 14, 48, 4, 20, 45, 37, 37, 18, 49, 44, 30, 44, 30, 24, 29, 5, 28, 35, 12, 27, 9, 12, 2, 24, 37, 7, 38, 16, 18, 24, 7, 27, 8, 8, 30, 12, 4, 42, 21, 15, 26, 30, 26, 33, 12, 32, 48, 8, 23, 49, 15, 27, 19, 25, 39, 36, 23, 12, 20, 46, 47, 10, 11, 21, 39, 8, 44, 32, 29, 11, 26, 17, 29, 25, 42, 25, 34, 32, 24, 19, 21, 8, 30, 31, 8, 17, 29, 20, 44, 36, 28, 16, 15, 16, 15, 37, 48, 35, 25, 28, 21, 20, 16, 25, 10, 35, 21, 16, 7, 13, 36, 15, 48, 21, 17, 25, 20, 26, 36, 12, 18, 17, 15, 39, 16, 28, 13, 8, 29, 21, 9, 5, 25, 25, 46, 26, 38, 17, 25, 13, 44, 22, 24, 36, 31, 15, 36, 41, 35, 40, 19, 15, 30, 10, 20, 16, 18, 17, 39, 14, 29, 16, 45, 19, 26, 42, 39, 12, 41, 6, 27, 30, 10, 13, 23, 15, 19, 30, 41, 18, 26, 14, 7, 44, 9, 44, 17, 11, 22, 20, 14, 26, 41, 27, 33, 38, 13, 32, 17, 46, 31, 27, 19, 24, 20, 49, 17, 35, 25, 33, 30, 20, 34, 25, 44, 30, 33, 6, 25, 30, 40, 29, 25, 26, 47, 41, 23, 22, 9, 14, 18, 11, 37, 12, 10, 23, 10, 47, 15, 17, 16, 24, 15, 20, 43, 33, 26, 14, 30, 24, 17, 30, 23, 18, 41, 17, 31, 23, 29, 44, 31, 18, 14, 9, 28, 35, 7, 44, 31, 13, 23, 3, 32, 23, 28, 40, 33, 18, 28, 12, 19, 34, 46, 41, 34, 23, 3, 38, 12, 42, 25, 31, 29, 42, 13, 12, 12, 12, 41, 26, 42, 10, 23, 29, 21, 45, 27, 20, 20, 14, 20, 28, 11, 13, 21, 13, 22, 25, 44, 18, 31, 32, 28, 26, 26, 30, 27, 41, 44, 25, 29, 24, 34, 21, 7, 17, 30, 25, 19, 38, 18, 3, 19, 25, 24, 16, 15, 9, 40, 32, 11, 18, 16, 16, 21, 14, 21, 13, 33, 46, 30, 5, 45, 21, 13, 12, 23, 39, 13, 39, 13, 16, 15, 34, 14, 4, 21, 25, 32, 18, 31, 48, 35, 19, 41, 15, 16, 39, 23, 42, 16, 34, 29, 18, 8, 34, 23, 42, 47, 19, 21, 19, 14, 38, 26, 18, 13, 14, 13, 25, 24, 19, 19, 13, 4, 29, 36, 47, 20, 13, 20, 24, 25, 28, 40, 18, 18, 21, 39, 45, 45, 43, 8, 27, 14, 18, 17, 32, 4, 23, 13, 21, 30, 38, 13, 37, 13, 40, 12, 34, 43, 20, 30, 30, 17, 28, 26, 7, 31, 29, 13, 41, 46, 13, 13, 28, 38, 20, 22, 48, 34, 24, 21, 11, 30, 20, 13, 12, 18, 44, 39, 8, 12, 22, 15, 19, 27, 3, 39, 28, 16, 49, 11, 20, 18, 23, 25, 30, 8, 35, 39, 20, 37, 34, 31, 25, 19, 37, 19, 40, 5, 14, 42, 20, 30, 22, 21, 41, 47, 33, 23, 34, 6, 25, 20, 34, 15, 46, 33, 8, 18, 38, 28, 11, 12, 17, 29, 49, 22, 21, 31, 45, 35, 13, 6, 19, 18, 14, 20, 43, 14, 25, 16, 42, 18, 22, 18, 27, 20, 40, 18, 34, 34, 22, 18, 14, 5, 37, 16, 24, 44, 3, 48, 30, 8, 35, 18, 19, 11, 27, 38, 33, 19, 32, 37, 30, 30, 19, 27, 12, 37, 41, 11, 43, 14, 8, 24, 36, 31, 29, 46, 16, 24, 19, 29, 39, 19, 31, 22, 18, 29, 25, 33, 29, 20, 25, 30, 25, 11, 18, 14, 5, 23, 22, 20, 46, 21, 49, 48, 31, 44, 30, 36, 13, 21, 20, 36, 20, 11, 24, 31, 11, 17, 9, 19, 17, 19, 35, 20, 20, 29, 10, 44, 28, 26, 23, 31, 24, 21, 18, 49, 11, 9, 28, 24, 29, 19, 17, 34, 34, 22, 47, 6, 10, 30, 13, 40, 22, 28, 27, 48, 22, 15, 20, 28, 12, 21, 43, 43, 9, 26, 28, 46, 8, 40, 22, 25, 26, 23, 32, 19, 48, 27, 23, 22, 17, 30, 26, 24, 26, 27, 19, 13, 48, 14, 11, 31, 16, 46, 18, 17, 29, 9, 16, 43, 18, 11, 6, 42, 34, 10, 4, 40, 34, 40, 9, 30, 35, 38, 18, 13, 13, 25, 44, 18, 24, 14, 49, 13, 24, 21, 27, 39, 16, 40, 40, 21, 20, 35, 42, 45, 25, 18, 12, 24, 35, 21, 6, 7, 14, 23]\n"
     ]
    }
   ],
   "source": [
    "result = [len(x_data) for x_data in data] \n",
    "print(result)\n"
   ]
  },
  {
   "cell_type": "code",
   "execution_count": 9,
   "id": "9a32ea02",
   "metadata": {},
   "outputs": [
    {
     "name": "stdout",
     "output_type": "stream",
     "text": [
      "24.676519799219186\n"
     ]
    }
   ],
   "source": [
    "#The mean value. \n",
    "r_m = np.mean(result)\n",
    "print(r_m)\n"
   ]
  },
  {
   "cell_type": "code",
   "execution_count": 10,
   "id": "7e4b210f",
   "metadata": {},
   "outputs": [
    {
     "name": "stdout",
     "output_type": "stream",
     "text": [
      "11.28405192884278\n"
     ]
    }
   ],
   "source": [
    "#The std value.\n",
    "r_std = np.std(result)\n",
    "print(r_std)"
   ]
  },
  {
   "cell_type": "code",
   "execution_count": 11,
   "id": "5d78913e",
   "metadata": {},
   "outputs": [
    {
     "name": "stderr",
     "output_type": "stream",
     "text": [
      "C:\\Users\\korina Mokati\\anaconda3\\lib\\site-packages\\seaborn\\_decorators.py:36: FutureWarning: Pass the following variable as a keyword arg: x. From version 0.12, the only valid positional argument will be `data`, and passing other arguments without an explicit keyword will result in an error or misinterpretation.\n",
      "  warnings.warn(\n"
     ]
    },
    {
     "data": {
      "image/png": "[encoded data removed]",
      "text/plain": [
       "<Figure size 720x432 with 1 Axes>"
      ]
     },
     "metadata": {},
     "output_type": "display_data"
    }
   ],
   "source": [
    "sb.set_style(\"white\")\n",
    "plt.figure(figsize = (10,6))\n",
    "sb.boxplot(result,color=\"black\")\n",
    "plt.title(\"postive and negative results\")\n",
    "plt.xlabel(\"words\")\n",
    "plt.show()"
   ]
  },
  {
   "cell_type": "code",
   "execution_count": 12,
   "id": "cdeddd84",
   "metadata": {},
   "outputs": [
    {
     "name": "stdout",
     "output_type": "stream",
     "text": [
      "(array([ 2,  3,  4,  5,  6,  7,  8,  9, 10, 11, 12, 13, 14, 15, 16, 17, 18,\n",
      "       19, 20, 21, 22, 23, 24, 25, 26, 27, 28, 29, 30, 31, 32, 33, 34, 35,\n",
      "       36, 37, 38, 39, 40, 41, 42, 43, 44, 45, 46, 47, 48, 49]), array([ 2,  9, 11, 11, 10, 19, 29, 42, 42, 40, 45, 59, 58, 45, 56, 61, 71,\n",
      "       61, 76, 57, 54, 54, 48, 66, 44, 46, 41, 42, 63, 43, 35, 27, 39, 37,\n",
      "       30, 23, 31, 27, 27, 22, 28, 24, 29, 24, 26, 20, 23, 16],\n",
      "      dtype=int64))\n"
     ]
    }
   ],
   "source": [
    "# Number of pos/neg samples in your training set\n",
    "print(np.unique(result, return_counts=True))\n"
   ]
  },
  {
   "cell_type": "code",
   "execution_count": 13,
   "id": "41e48d32",
   "metadata": {},
   "outputs": [
    {
     "name": "stdout",
     "output_type": "stream",
     "text": [
      "['one of the best crichton novels', 'the medicine of the future', 'beautiful', 'for lovers of robicheaux', 'a good book']\n",
      "[[18, 4, 2, 19], [2, 4, 2], [], [6, 4], [1, 12, 3]]\n"
     ]
    }
   ],
   "source": [
    "# Do not modify - Tokenize the vocabulary \n",
    "from keras.preprocessing.text import Tokenizer\n",
    "\n",
    "tokenizer = Tokenizer(num_words=25)\n",
    "\n",
    "tokenizer.fit_on_texts(data) #create the vocabularry\n",
    "\n",
    "tokenized_data = tokenizer.texts_to_sequences(data) #tokenize the data using the vocabulary\n",
    "\n",
    "vocab_size = len(tokenizer.word_index) + 1 \n",
    "\n",
    "# Compare a sample of the data before and after tokenization\n",
    "print(data[0:5])\n",
    "print(tokenized_data[0:5])"
   ]
  },
  {
   "cell_type": "code",
   "execution_count": 14,
   "id": "82c9e62a",
   "metadata": {},
   "outputs": [
    {
     "name": "stdout",
     "output_type": "stream",
     "text": [
      "[[18  4  2 19]\n",
      " [ 2  4  2  0]\n",
      " [ 0  0  0  0]\n",
      " ...\n",
      " [ 0  0  0  0]\n",
      " [ 6  0  0  0]\n",
      " [ 0  0  0  0]]\n"
     ]
    }
   ],
   "source": [
    "# - Calculate the number of unique words in the dataset\n",
    "#words = 5000\n",
    "from keras.preprocessing.sequence import pad_sequences\n",
    "X = pad_sequences(tokenized_data,padding='post',maxlen=4)\n",
    "print(X)\n",
    "y = labels\n",
    "#data_train, label_train, data_test,label_test = data(num_words=top_words, skip_top=50, seed=113, start_char=1, oov_char=2)"
   ]
  },
  {
   "cell_type": "code",
   "execution_count": 15,
   "id": "468ea232",
   "metadata": {},
   "outputs": [],
   "source": [
    "import tensorflow as tf"
   ]
  },
  {
   "cell_type": "code",
   "execution_count": 16,
   "id": "82bc96b6",
   "metadata": {},
   "outputs": [
    {
     "data": {
      "text/plain": [
       "array([[18,  4,  2, 19],\n",
       "       [ 0,  2,  4,  2],\n",
       "       [ 0,  0,  0,  0],\n",
       "       [ 0,  0,  6,  4],\n",
       "       [ 0,  1, 12,  3]])"
      ]
     },
     "execution_count": 16,
     "metadata": {},
     "output_type": "execute_result"
    }
   ],
   "source": [
    "sequence = [[18, 4, 2, 19], [2, 4, 2], [], [6, 4], [1, 12, 3]]\n",
    "tf.keras.preprocessing.sequence.pad_sequences(sequence)"
   ]
  },
  {
   "cell_type": "code",
   "execution_count": 17,
   "id": "22dbf22e",
   "metadata": {},
   "outputs": [
    {
     "data": {
      "text/plain": [
       "array([[18,  4,  2, 19],\n",
       "       [-1,  2,  4,  2],\n",
       "       [-1, -1, -1, -1],\n",
       "       [-1, -1,  6,  4],\n",
       "       [-1,  1, 12,  3]])"
      ]
     },
     "execution_count": 17,
     "metadata": {},
     "output_type": "execute_result"
    }
   ],
   "source": [
    "tf.keras.preprocessing.sequence.pad_sequences(sequence, value=-1)\n"
   ]
  },
  {
   "cell_type": "code",
   "execution_count": 18,
   "id": "2614cab5",
   "metadata": {},
   "outputs": [
    {
     "data": {
      "text/plain": [
       "array([[18,  4,  2, 19],\n",
       "       [ 2,  4,  2,  0],\n",
       "       [ 0,  0,  0,  0],\n",
       "       [ 6,  4,  0,  0],\n",
       "       [ 1, 12,  3,  0]])"
      ]
     },
     "execution_count": 18,
     "metadata": {},
     "output_type": "execute_result"
    }
   ],
   "source": [
    " tf.keras.preprocessing.sequence.pad_sequences(sequence, padding='post')"
   ]
  },
  {
   "cell_type": "code",
   "execution_count": 19,
   "id": "8fe0a21c",
   "metadata": {},
   "outputs": [
    {
     "data": {
      "text/plain": [
       "array([[ 2, 19],\n",
       "       [ 4,  2],\n",
       "       [ 0,  0],\n",
       "       [ 6,  4],\n",
       "       [12,  3]])"
      ]
     },
     "execution_count": 19,
     "metadata": {},
     "output_type": "execute_result"
    }
   ],
   "source": [
    "tf.keras.preprocessing.sequence.pad_sequences(sequence, maxlen=2)"
   ]
  },
  {
   "cell_type": "code",
   "execution_count": 20,
   "id": "69813bd2",
   "metadata": {},
   "outputs": [],
   "source": [
    "#X_train,X_test,y_train,y_test=train_test_split(y,X,test_size=0.2, shuffle = True)\n",
    "X_train, X_test, y_train, y_test = train_test_split(X, \n",
    "                y, test_size=0.2, shuffle=True)\n"
   ]
  },
  {
   "cell_type": "code",
   "execution_count": 21,
   "id": "c9f53b9e",
   "metadata": {},
   "outputs": [
    {
     "name": "stdout",
     "output_type": "stream",
     "text": [
      "(1434, 4) (1434, 2)\n"
     ]
    }
   ],
   "source": [
    "print(X_train.shape,y_train.shape)\n",
    "\n"
   ]
  },
  {
   "cell_type": "code",
   "execution_count": 22,
   "id": "aa68e3f4",
   "metadata": {},
   "outputs": [
    {
     "name": "stdout",
     "output_type": "stream",
     "text": [
      "['one of the best crichton novels', 'the medicine of the future', 'beautiful', 'for lovers of robicheaux', 'a good book', 'to the point and beautifully illustrated', 'at least somebody has got it', 'beautifully written heartwarming story', 'an excellent cookbook full of delicious recipes', 'an outstanding resource', 'eye opening information', 'a gem', 'the best book on money ive ever read', 'funny sexy sweet poignant', 'one of koontzs better books', 'absolutely fantastic', 'possible side effects a burroughs', 'a dream a vision the west incarnate', 'loved it', 'as expected', 'a good writer suffers', 'how many terrorists can walk a tightrope', 'interesting good info odd storyline', 'ruth can do better', 'excellent', 'i love this book', 'quite enjoyable', 'sound advice', 'the struggle of faith and duty', 'made my ordinary day much better', 'go ahead have another onewhats one more gonna do', 'retro yet relevant', 'i dont think it sounds like mice', 'make this your first investment', 'a tragic story magnificently written', 'ludinthemist eugenic', 'good summer read', 'thrills beneath the earths surface', 'gems from among the leavings', 'warm and wonderful', 'interesting premise', 'wonderful wizard of oz', 'book should come with box of kleenex', 'wonderful translation', 'finally a roth novel i like', 'wow what a bh', 'beware of superbookdeals seller', 'one of the best books of 1997 or any other year', 'a look at the death penalty', 'powerful but not one of stephen kings best', 'a very balance approach', 'a great piece', 'excellent idea severe omission', 'johnsons classic novel of passing', 'are you in this book', 'my favorite', 'engaging look at a scary set of diseases', 'its not too late for bob', 'excellent', 'excellent book', 'from beirut to jerusalem', 'dave barrys genius', 'anyone who makes decisions should read this', 'sanctuary by nora roberts', 'a must for costumers', 'eye candy with excellent recipes', 'frenetic watch', 'pictures are worth a 1000 words', 'this book rocks', 'mind of a dog', 'excellent study guide', 'flying high', 'mr lynch shares more of his expertise', 'a sweet little story', 'use this with high school kids', 'moving educational', 'witty and excellent', 'the real story', 'the possible plot', 'great for aspiring inkers and comic fans alike', 'good read', 'actually 4 12 stars', 'quick and easy to read', 'another winner', 'another awesome thriller by grisham', 'a great book if a loved one is dying', 'humorousif you think about it', 'very fun', 'left behind series picks up again after a lull', 'marvelous story for wwii navy history', 'another great kinsey mystery', 'absitively a great read', 'inspiring and classy', 'nifty development environment', 'title says it all', 'great as ever', 'the creation of the underclass', 'if you enjoy history and psychology together', 'how not to murder your wife', 'easy to read and entertaining trust me', 'escellent', 'heartfelt tale of women in rural china', 'off the shelf just in time', 'it has already been said but i will say it again', 'now make it a screen play', 'these things are true', 'an excellent first choice', 'china inc', 'one of the best books i have ever read', 'the united states of europe', 'teenage opinon', 'the solution to all educational problems', 'great package this one works', 'great book to listen to while you work out', 'great coffee table book', 'hannah coulter', 'service and quality', 'possibly the best of the rich dad books', 'im impressed', 'listening to isaacs storm', 'must read on a neglected topic', 'a nice ride', 'an essential book for art lovers', 'quirky and creative pictorial portrayel', 'a fantastic book', 'diffrent aproach', 'typical steel', 'flawed but enjoyable', 'kudos to ruth', 'a memoir of two wars', 'freedom freedom freedom', 'very very good', 'page turning', 'a marvelous grounding in popular history', 'massive and masterful', 'the best diet book i have ever read', 'excellent', 'insightful', 'even a cooking idiot me can dazzle', 'a must read study', 'a much needed focus', 'a must read for every woman', 'a terrific little termite', 'a woman built the brooklyn bridge', 'very educational', 'buy 10 copies of this book', 'good reading', 'excellent', 'the navajo landscape', 'ill make this short', 'must read to catchup on islamist history', 'war and peace both inscrutable', 'timeline', 'the truth hurts', 'layered plot with plenty of twists and turns', 'the point of unlimited possibility', 'a helpful memoir for women', 'a timely analysis', 'history at its best', 'somewhat outdated but still worth while', 'the best of the trilogy', 'wellwritten book', 'end of oil', 'a time to kill', 'interlude in death', 'simple effective and very powerful', 'captivating and beautifully written', 'teaches how to market yourself', 'post 911 pre 911 conversations with noam chomsky', 'as a man does good daily verse reading', 'keen marketing sense', 'still a benchmark', 'a truely excellent read', 'good', 'nice intro but incomplete', 'run dont walk to buy this book', 'beautiful book', 'mindexpanding', 'pure mcguane', 'great cheese puffs', 'like discovering a long lost bronte', 'scarier than any stephen king novel', 'byebye to barty8217s biting backchat', 'the most terrible story ive ever readfive stars', 'great reference guide', 'a gms friend', 'encyclopedia prehistorica', 'far journeys review', 'kudos to ruth', 'a definite quotmust havequot', 'yes stephen king really is that good', 'awesome', 'the skinny on hiassin', 'wonderfully written novel', 'shock and awe', 'excellent historical fiction', 'worth every bit of the 10 selling price', 'fun non stop action', 'exciting audio w sound effects', 'real age ill never tell', 'always amazing and intriguing', 'great book', 'a wonderful book for girls', 'good book', 'highly recommended textbook', 'the sinister pig tony hillerman', 'awesome', 'a great book about a not too well known episode', 'my alltime favorite', 'the best so far', 'secret pleasure', 'amazing book', 'every parent should read this', 'amazing', 'great stuff for the scienceminded cook', 'and this is presidential material', 'the usbourne book of art skills', 'good biography', 'good as always', 'insightful and timely', 'great collection of stories', '48 laws of power my sons evaluation', 'dna genealogy', 'biting wit abounds', 'loved loved loved', 'too short it demands a sequel', '1776', 'funny but odd buy with caution', 'a perfect whodunnit', 'wonderful', 'insightful', 'patterson is tops', 'reading this book at sea', 'a different fun book', 'leaders are not born but madeit begins here', 'a must read', 'changed my way of seeing people', 'packs an emotional wallop', 'a classic', 'powerful and unforgettable', 'this guy can write', 'fills a much needed void', 'sandford is a mastermind', 'a warning against laziness', 'delivers what it promises', 'the guinness world records 2005', 'common sense and dignity', 'a must read', 'fantastic horror mystery thriller', 'dog lover', 'remarkable work', 'excellent', 'a staple item for the humor lovers bookshelf', 'comprehensive clear practical', 'a gem', 'a likeable conclusion to the trilogy', 'beautiful', 'a powerful visual impact', 'how do you want to interpret consciousness', 'very useful but a little dated', 'very interesting', 'should be mandatory reading for new employees', 'examines the nature and applications of air power', 'insightful and possibly lifesaving', 'fable of unintended consequences', 'the in the garden trilogy', 'swarm theory', 'mini version of out of control', 'a hardboiled gem', 'interesting cartoon and puzzle combo', 'my favorite movie guide by far', 'have the older version', 'worthwhile', 'min cuis review', 'hard hitting truths about the real world of work', 'good intro to crichton', 'terrific book', 'confusing hilarious profound', 'ten stars would be more accurate', 'for women only your guide to health empowerment', 'i read your brother', 'a mustread book to know inside out about net clr', 'this works', 'top notch sf', '4 set cd of meditations from the book', 'one of koontzs best', 'fans of the first series rejoice', 'the great communicator', 'a must read', 'for the vicarious adventurer', 'read it and draw your own conclusion', 'an absolute masterpiece', 'rational analysis', 'an excellent and comical novel about family', 'simply the best art critic', 'my all time favorite fantasy', 'level headed reading jesus in his own context', 'excellent resource for raw food nutrition', 'an excellent introduction to critical thinking', 'gets right to the point', 'a mother of a book', 'when the wind blows', 'my faith rejuvinated', 'looking through a glass darkly', 'informative amp interesting read', 'vernes vision of a subterranean world', 'exciting and provoking', 'endearing feline whimsey', 'excellent cookbook', 'i love this book', 'my favorite book in the series', 'cant read again', 'great for self groomers', 'great first mystery in the joanna brady series', 'cute', 'a great unsung character', 'changed my life', 'a great book my 3 year olds favorite', 'excellent mystery', 'wonderful book', 'perception is everything', 'outstanding book', 'the best compliment i can think of', 'sexological review', 'one of my favorite from sk', 'i dont know why all the bad reviews', 'i loved this book', 'simply fantastic', 'the rare little childrens bio of dr king', 'a rational approach to life enhancing changes', 'laurie charlotte nc', 'never travel the same route twice', 'very funny and so true', 'great read', 'global capitalisms local disaster', 'definitely worth every penny', 'there is a unprocess to everything', 'not bad at all', 'perfect intoduction for the curious', 'great resource', 'a great sequel to jurassic park', 'fast', 'outstanding book that will build character', 'more than a house', 'i was cut out for finer things', 'metallicas last thrash', 'wonderful and most fun', 'the march continues', 'easy to read bible', 'a good summer read', 'good news for cats', 'great subtle book by proven author', 'who knew that earth demons like chef boyardee', 'almost but not quite', 'a wonderful historical account', 'extraordinary', 'a book for the ages', 'excellent', 'innocence lost or boys will be cruel', 'genuine', 'splendid but flawed biography', 'going to italy', 'dave is amazing', 'a necessity and a work of pure genius', 'among the creme of the creme of business books', 'this is the only book you will need', 'hey honey', 'what a wonderful book', 'if you dont know what is going on', 'a wealth of history and opinion', 'excellent source of fairly up to date information', 'the absolute best', 'the classic mediterranean travel narrative', 'lotus seed', 'a wealth of information', 'provides great insights into life', 'the up to date case', 'challenging you to step up to the plate', 'columbus cubes or bust', 'oooh my goodness', 'wow my ears are opened', 'a godsend thank you dr hallowell', 'divided in death', 'can i get an amen', 'a pun extravaganza', 'rambles a bit', 'comfortable book to reread sometime', 'photographer as artist', 'my life as a baby is a winner', 'no soup cans here', 'you can cook', 'amazing', 'lost world is a good book', 'good prep guide for passing the test', 'wow a fun lively wonderful westward journey', 'lightning', 'robert hand the finest astrologer of all times', 'great book', 'freedom is choice constrained', 'preschool class loves this book', 'one of the best books ive ever read or owned', 'fantastic book', 'fire to flight ratio', 'the death of the devastators', 'darwinism dead in 50 years time', 'crucial desk reference', 'the birth of modern geology', 'good but scenarios getting out of date', 'let it speak for itself', 'incredible book', 'storm in the night', 'my favourite poetry book', 'flip it flip it good', 'quaint and entertaining', 'whos telling the truth', 'fastpaced book', 'iran tormented soul in search of an identity', 'a real eyeopener', 'excellent', 'light into darkness', 'war and peace both inscrutable', 'an immense poetic achievement', 'a very good reference but', 'the martha stewart living cookbook', 'good considering the time', 'mom may need hysterectomy', 'surprisingly helpful', 'the book changed my life', 'classic with room for hugs', 'be the business', 'could be filmed in kentucky', 'what i needed', 'dont try to read it at one sitting', 'data is an asset', 'the importance of character in an age of image', 'good historical view', 'one of my alltime favorites', 'youll smile', 'its not a product its a process', 'nice little book', 'loved it', 'necessary reading', 'well done book yet', 'another drop in the parenting bucket', 'a classic', 'a fresh new look about an old topic', 'the nostradamus code', 'great girls food', 'reality check', 'is there a liberal pac out there', 'courage under fire', 'murder mayhem md style', 'balanced', 'discipline that works and teaches', 'a faithful view of our favorite psalm', 'indispensable resource', 'well illustrated and explained', 'live a joyful life', 'shapeshifter tarot', 'classic larry niven', 'awesome', 'a clear place to begin the conversation', 'flavorful fastpaced and entertaining', 'get your juicer off the shelf and use it', 'an impressively updated indispensable reference', 'the best world history atlas book anywhere', 'by far the best baseball book in print', 'fun very light', 'first feist', 'a valid reason for betrayal', 'great data', 'the best choice', 'very helpful for those hurting', 'one of the best books ive ever read', 'fasten your seatbelts and enjoy the ride', 'hells angels', 'a quotmust havequot for male intimacy', 'fforde ffun', 'getting thin and loving food', 'dr northrup walks her talk', 'assertiveness training', 'the best six sigma book from alpha to ztests', 'a mustread for the novice handicapper', 'a writer worth watching', 'wow', 'a quick terrific read', 'last man standing baldaccis best', 'a good book but like most heinleins books', '5000 yrs of western civilization mapped out', 'what have you got to lose', 'gain insights to accelerate growth', 'possession is the least of our poblems', 'good history book bad science reference', 'yet another great read', 'an often overlooked gem', 'just write', 'my favorite kids book', 'a fun read', 'necessary illusions chomskys tour de force', 'a book for all ages', 'as much as i hate to say it', 'no comparison to the film', 'indubitude', 'loved it', 'another excellent book by connelly', 'winning custody', 'better than lonesome dove', 'a good resource but opportunities are missed', 'harpercollins bible dictionary', 'ready to get fit', 'a colorful introduction to pc', 'simple and sweet', 'entertaining but beware this advice', 'the temporary death of a priori', 'quotmustquot reading for all elie wiesel fans', 'a pleasurable read', 'pretty good read', 'omg', 'one time around of good mystery', 'an epic portrayal of an important maligned truth', 'he is so hott', 'better than the previous editions', 'a readable engaging classic', 'a comprehensive survey of classical literature', 'this is the premier book on interior decoration', 'from the heart of a lonely man', 'vintage parker', 'love poems from the heian era', 'engaging and illuminating', 'a readable book that deserves some credence', 'rather surprised', 'why its still in print a hundred years later', 'seth frantzman is an idiot', 'what happened in the middle', 'missing person', 'gripping', 'marker', 'all around good easy read', 'hilarious', 'the profit order world', 'one of the better sexual books', 'totalitarianism nazism and communism', 'great summer read', 'i love this book its amazing', 'beautiful and practical', 'better than volume 1', 'wow', 'how to get off your bum and make a difference', 'best treatment of strategic planning for churches', 'yazoo city native', 'must read for actors', 'magnificent', 'a thick read', 'laughing so hard im doing 1 in my uderbritches', 'this book contains powerful healing techniques', 'noble prize winner on conflict', 'the perfect holiday gift', 'a fantastic exercise in what if', 'goes through cars like toilet paper', 'borges the memorious', 'a very good and accessible character sketch', 'using this book at unc charlotte in class', 'love it', 'incomparable', 'contentment', 'heres the template', 'exquisite historical prose', 'another hit from barry', 'bright and enjoyable but not especially deep', 'insightful and exceedingly rare scholarship', 'he loves it', 'my infant smiles whenever he sees this book', 'the thornbirds', 'a rich and thoughtprovoking book', 'leslie does it again', 'thinking and racism', 'a loving look at middle earth', 'great childrens book beautiful and intriguing', 'a thoughtful and important book', 'one of kings best', 'heroic and on target', 'perfect introduction book', 'liberalssave the bureaucracy to hell with kids', 'check the facts', 'fun reading and great characters', 'my favorite quotation book', 'great book greg isles never disappoints me', 'witches with a message', 'western liberalism on trial', 'europe since 1945 for the nonhistorian', 'great book needs a new update', 'honest history', 'intensity', 'do not skip this book because of the movie', 'excellent book', 'an alternative ending', 'teaching kids to read without stressing out', 'its good as a second source', 'a great basic cookbook', 'thorough and comrehensive', 'truly wonderful stuff', 'best thus far', 'very good', 'must have book', 'moral philosophy', 'good politics', 'writing from your heart', 'inside jerry falwell', 'good reading', 'vonneguts masterpiece', 'hooray for hollywood', 'e lynn puts it all out on the table in this one', 'journeys through the world from your armchair', 'a look at the death penalty', 'beautiful', 'a mustread for all believers', 'learning to care for yourself', 'great book', 'breathtaking story', 'fantastic', 'wickid satire', 'really seems to help', 'close your eyes and enjoy the ride', 'wow this book made all the difference', 'real life situations', 'a different opinion', 'excellent adventure novel', 'a mustread for anyone who eats', 'the first book of design for all designers', 'againthe best', 'now i can play', 'the best yet and will be tough to match', 'a gothic delight', 'a seductive page turner but lacking something', 'the source for true armanen runelore', 'great topic kudos mr watkins', 'entertaining education', 'walking amongst dummys', 'ending was great', 'a strong argument for tort reform', 'creating a census for an antique book', 'lets not go completely overboard', 'critical book review', 'laughs gasps ahas and oy veys', 'matilda and the trunchbull', 'sharp insight from virginia postrel', 'funny and true', 'not restricted to just educational context', 'informative and insightful', 'yoga of the heart', 'fascism in action', 'irresistible grace', 'excellent book informative and fun', 'understanding the roots of racism', 'interesting thought', 'be afraidbe very afraid', 'i wish all textbooks were like this one', 'great introductory guide', 'the bridge of san luis rey by thornton wilder', 'another great book', 'literate and exciting', 'melding economies', 'great biography on a great man', 'wicked fun reading', 'great book', 'it really is the art of the grill', 'bittersweet humor and advice to a young son', 'a story of survival', 'surprisingly honest and terse firstperson history', 'there it is', 'setting the record straight', 'a child is fortunate to have this book', 'a rare gem spirituality', 'a fun practical corkbook thats well within reach', 'can you imagine hell these six people can', 'comprehensive', 'great book', 'it really is the easy way', 'a wonderful peice of american religious history', 'early mccarthy', 'typical mccarthy but that is a good thing', 'great concept best low carb book i have seen', 'reasons for being alone', 'the picture of dorian gray', 'good introduction', 'revisionism at its best', 'great mountain story', 'austen at her best', 'undecided', 'millionaire mind book scratches the surface', 'one of my favorite books', 'why classics are classics', 'wow what a bh', 'mmmmmmscrumptious and the memories', 'same schtick different players', 'frank peretti lite', 'on death and dying', 'get the hardback version it is vastly superior', 'timing is everything and you wont have it', 'freakonomics', 'classic statement of animal liberation', 'excellent', 'one great book', 'give the kid a break and use your imagination', 'ultrahigh expectations unmet', '29028 feet of pure pleasure', 'emotional intelligence 10 years on', 'fabulousas always', 'one great book', 'pure hiaasen', 'changed attitudes', '45 stars', 'a good mans long journey', 'outstanding', 'not innate but geographical differences', '50 stars', 'freakonomics', 'statecraft', 'made my son a reader', 'a lifechanging read for humans 8 to 108', 'awesome read', 'sports', 'you cant go wrong with larry gonick', 'academic classic', 'reinforces things you tell your kids', 'read it as a child and now use it as a professor', 'one of the best intro books on the subject', 'tender touching and humorous', 'jules gets four stars', 'excellent beginners book', 'incredibly useful', 'deep waters', 'learning python', 'quotexcellent source of frozen yogurt recipesquot', 'a very responsible and important study', 'historical primer', 'the greatest book on john lennon', 'kelly ripa loved it', 'a must for any lover of baseball', 'small sizes', 'class differences', 'an inspiration and a joy', 'my son chose his school here', 'a valuable tool', 'amazing', 'think while laughing', 'tremendous', 'one of my lifetime favorites', 's m l xl extra great', 'doesnt flow buteh who cares', 'a well written and fun read', 'great for veteran freezer cooks', 'perfect for the upcoming coldweather months', 'an excellent description on the role of the state', 'valuable asset', 'masterpiece of western fiction', 'wow', 'slippery', 'for a long story this one is worth every word', 'contemporary english bible low cost edition', 'awesome tecnical manual', 'fakebuster', 'an inspiring book', 'the best book in the series', 'the beach house', 'kids love it', 'great account of sports and social history', 'she likes it so it must be good', 'must have book', 'coffee table book that also has true substance', 'user friendly great pictures', 'an old time favorite', 'simple and clear', 'find music that you love', 'very thorough but somewhat difficult to read', 'good for the most part', 'superb presentationcontent', 'another way to look at the strongwilled child', 'indispensible for the sword fancier', 'cookbookgal', 'terrific reference material', 'another superb production', 'delicious healthy food fast', 'changed my life', 'great book to identify your smle', 'the struggle for revolutionary culture', 'i love alex', 'a focus on hardware optimization', 'good story good art to match', 'excellent book a must read', 'the struggle for revolutionary culture', 'peter robinson a great talent', 'storm of swords', 'brilliant lawyer story', 'correcting an oversight', 'two hooks up', 'great resource for an experience java programmer', 'i am the books author', 'the art of chinese swordsmanship', 'this book wins my heart', 'great book', 'our grandmothers were right', 'creepy and fascinating', 'mr explainer does it again', 'great follow up to the red hat club', 'righteous', 'a reassuring read', 'highly recommended', 'a great little book', 'cj box does it again', 'fabulous history', 'impeccable perspective a must read', 'mythology for the masses', 'life in old plymouth', 'wonderful book', 'its like a little postrelationship bible', 'great read like james fenmore cooper', 'good for first timers', '2 years', 'great laugh for grown ups', 'a great book by a btdt been there done that', 'insightful', 'brilliant and untouchable', 'the greatest novel', 'a must have for anyone selling a story', 'loved it', 'nicely done wish hed write another', 'for the creme brulee lover', 'the butchers theater', 'an affair to remember', 'thiss been my favorite book for 8 years', 'self help masterpiece', 'its nasty and the kids love it', 'excellent book', 'yes yes yes', 'a magic story', 'must have', 'great', 'read it', 'beautiful', 'required reading for elementary students', 'not perezrevertes best but entertaining', 'the peak of storytelling', 'a real mystery for grownups', 'blown away', 'a solid defense', 'piece of my heart', 'couldnt resist', 'i love this book', 'good starter reader', 'the horse packers bible', 'a masterful contribution', 'cuts to the core', 'her ideas are classic yet fresh', 'really the last prophet', 'bravo', 'a nice followup to stitch n bitch', 'pretty helpful book', 'how big is a foot', 'great bread machine book', 'why arent you reading this', 'kellerman at his best', 'warcraft book2 10000 years before warcraft game1', 'one to reread', 'the spark', 'and the lesson is', 'sweet read', 'good info but missing a certain something', 'interesting and educational and children love it', 'fascinating look at america 50 years ago', 'its shofar time', 'we love this book', 'horrible book horrible', 'shallow selfindulgence', 'horrible book horrible', 'disappointment', 'a disappointing mess', 'save your money there are better books out there', 'thank you but no thanks', 'unendurable', 'the hard way', 'some good info among the political commercial', 'the halfway mark', 'is this book made of 100 american products nope', 'bukowskis worst book', 'average', 'i didnt expect it to be this bad', 'there is hope for the world', 'farfetched', 'there are better logic books out there', 'its been said before and much better', 'closer to healthy than atkins but not quite there', 'biased inaccurate and misleading', 'nothing but publishing politics', 'stranded on an island', 'i dont like this book', 'no stars for this book', 'the members of turning pages book club suggest', 'eh', 'drop the religion', 'this series is getting old now', 'keep looking', 'ill pass on carbloading one hour a day', 'silly book', 'the roots of management science', 'a simple mind', 'who wrote this surely not hillerman', 'this book is only for the apprentice lover', 'typical eurocentric stereotypes about muslims', 'free money', 'pathetic', 'disbelief really hard to suspend', 'what another birthday', 'over rated', 'this book is suspect', 'the five people you meet in heaven review', 'spinning for dummies', 'definitely not up there with krakauer', 'so nazism is back', 'not nearly as compelling as rise to rebellion', 'let me save you some time', 'repetitive and disjointed', 'sadly disappointed', 'no stars over yosemite', 'missed the mark', 'this angel fell flat', 'lies damned lies and statistics', 'this book is bedlam', 'vastly overwritten and vastly overpraised', 'the antimystery story', 'at least one story told wrong', 'brainless squared', 'mandelbrot repeatedly claims standard models', 'doesnt have it all', 'a disappointment', 'a note of dissent', 'wrong item sent', 'another not so helpful rant', 'crops crops and more crops', 'sean hannity should be arrested', 'giants standing on his shoulders', 'biased genetic studies', 'dick morris degenerate', 'typical liberal rhetoric', 'did anyone proofread this', 'save your money', 'almost turned me off to heinlein', 'dreadful mishmash', 'theres nothing new here', 'a tragedy indeed', 'random thoughts', 'on democracy or on over simplification', 'i wouldnt recommend this book lacks credibility', 'even 3 paragraphs show the inaccuracy', 'this diet made me sick', 'founding work of modern statism', 'almost pornographic', 'great lesson in how to dramatize and sell books', 'will be a collectors item some day', 'shockingly overrated', 'just plain dumb', 'white males only', 'a major disservice to the book', 'what another birthday', 'boring', 'bones buried deep', 'poorly written', 'where is the quality control', 'word games', 'real dogs need real care not quotdummiesquot info', 'dont waste your money', 'sophomoric and sloppy', 'just what we need', 'definitely not alcotts little women', 'not realistic for most people', 'biased genetic studies', 'an odd mix but 3 stars', 'all dressed up no place to go', 'pathetic', 'perfect cure for insomnia', 'i really wanted to like this book', 'over rated', 'hate litterature', 'long and drawn out', 'wow what a disappointment', 'disappointing with a capital quotdquot', 'sacre bleu', 'a total disappointment and very depressing', 'as authentic as a daytime soap opera', 'the best picoult so far', 'just soso', 'terrible', 'why the music', 'everymans library edition is also abridged', 'quack quack', 'dawn', 'disappointed', 'crops crops and more crops', 'a long depressing journey', 'thanks but no thanks', 'had trouble downloading the customized settings', 'the worst of them all', 'poor content', 'is it true', 'kmans book reviews', 'bias was offputting', 'disappointing', 'i didnt like it', 'sluggish uneventful corny and borrrrring', 'slightly disappointed review edited', 'a let down', 'agree with lost in translation', 'this is a great book', 'not as good as her 1st 2 books', 'dont waste your money', 'condescending redundant repetitive', 'not realistic', 'i love stone barrington books but not this one', 'a disappointing book about a fabulous story', 'bad second act for frey', 'hayekorwells mentor', 'awful', 'dont just dont', 'surviving on the rumors of its sordid reputation', 'oops', 'this one let me down', 'sex belongs in the bedroom not in the library', 'this serie is getting worse each book', 'good idea didnt translate into a book', 'less than expected', 'one of the worst novels i have finished this year', 'i will rate this 1 star and 5 starsread more', 'none of the better ww2 memoirs', 'the first hundred pages really work but then', 'maybe im justing getting older', 'hate to burst the bubble', 'an average storycliche ending', 'trite', 'huge waste of time and money', 'a landmark in comic history 5 stars', 'did not like', 'myths more like facts to me', 'oh please', 'buyer beware', 'ok', 'ha ha ha im not nausious', 'read blindness and pass on the plague', 'painful', 'women are from vaginas and men are too', 'rich dad is fake', 'not worth the read', 'sappho and sex and magic', 'muddled', 'good but weak for hillerman', 'red lily', 'scrooged', 'watered down rehashing of flow', 'serious flaw', 'poor', 'if you like books about unicorns read this', 'thin characterization', 'the guide sucks', 'not for a modern economist', 'not many new ideas or examples', 'unrealistic and unoriginal', 'buy a book on probability instead', 'disapointing', 'bill a sad ending to a good show', 'the translation is a problem the stories are not', 'has been', 'a little too disjointed', 'oh boy more lets understand the terrorist garbage', 'whats the point', 'this book isnt for everyone', 'a book full of gaps', 'boring and poorly written', 'great for philosophy but doesnt inspire', 'too popular to bother trying anymore', 'worthless and disproven', 'very average', 'nothing special here', 'what do stossel oreilly and tbn have in common', 'why is waiting for godot like waiting for a bus', 'over rated', 'nothing new', 'recycling personified', 'partisan politics provide poor analysis', 'it is ok', 'reluctantly dragged along with frances mayes', 'could win any poor writing award', 'hate parade mixed with racism', 'bad bad bad', 'pleasedont waste your time', 'i couldnt wake up', 'a doctrinaire view of biology', 'not quite what i expected', 'if you like books about unicorns read this', 'good but has a few errors', 'expert obedience training for dogs', 'a bone to pick with skeleton man', 'for the plain and simple', 'not what i expected', 'spooky and delightful', 'dreadful', 'p l e a s e buy something else', 'the language of threads a novel', 'red lily', 'same old same old', 'a new worst book in my libray', 'not all great quotes', 'the first hundred pages really work but then', 'doesnt look like grisham at his best', 'skip itcontent of zero value', 'a poor imitation', 'sillysillysilly', 'bible comparison', 'one point story', 'interesting ideas poorly communicated', 'a book that will make you laugh and frighten you', 'christian fundamentalism dramatized', 'check all books carefully', 'hard to read misses the mark', 'dont waste your money', 'this angel fell flat', 'abolutely boring', 'not one of quindlens best', 'just awful', 'and yet more elitist filth in print', 'dont waste your money', 'nothing new here', 'not bad', 'neocon babble', '200 pages of total immersion italian', 'too predictable', 'not funny waste of time distasteful boring awful', 'dont waste your money', 'the world is flat', 'fluff and poor philosophy', 'really bad sociology', 'fabulously biased research', 'too popular to bother trying anymore', 'not worth it', 'confusing on audio', 'sad sorry snoozer', 'borrrrrrrrrring', 'ouch worse than most paperback romances', 'wheres the spark', 'worst advice book in history', 'disappointing', 'not good', 'decentlofty ideas but lacking', '300 pages of misandry', 'holy moly', 'sucks', 'big book of minimal value', 'beauty bites off too much', 'margaret mitchell is rolling over in her grave', 'sociology more of the same', 'hassans review get another translation', 'false advertizing', 'no substance to substance', 'not impressed', 'love the restaurant the cookbook not so much', 'minimally helpful text', 'danielle give me a break', 'articles great definitions very poor', 'a waste of perfectly good paper', 'wheres the beef', 'patterson readers beware of this dog', 'self reliance can we really rely on waldo', 'a different definition of a classic', 'chased by the light a 90day journey 2001', 'confusing snorefest', 'interesting but', 'great concepts that go nowhere', 'what crash', 'one of koontzs worst', 'somebody stop me', 'doesnt have it all', 'the wrong hostage', 'eat great lose weight miniature edition', 'voodoo physics', 'highly implausible plot lines', 'little by little', 'nambla members line up for blocks to get this', 'kozol frustrates me', 'they killed trees for this', 'a disciplined mind without the disciplines', 'becoming a master manager a book review', 'not the best', 'yawn more stereotypical female masochists', 'a plus', 'interesting but not helpful', 'not the book you know and love', 'nauseating', 'disappointing', 'a lame blog in hardback', 'this book lacks', 'souls of black folk', 'not much better than astrology', 'disappointing still searching for answers', 'breathtakingly bad', 'a formal analytical review', 'fast and loose', 'haunted', 'great stories good humor bad narration voice', 'mystified', 'its a crime that this book is still for sale', 'mariology it aint', 'ego visible', 'horrible horrible book', 'really not much here', 'gimmie a break', 'more than a disappointment', 'more branded product masking as substance', 'highly literate sophomorism', 'is there a lower rating available', 'pamuks first novel is a disappointment', 'waste of time', 'from christianityto churchianity', 'its complete crap', 'too long boring badly written not exciting etc', 'is it ethical to sell this book', 'incredibily unpleasant read', 'dr narbys wild ride', 'too out of touch herself', 'pseudofeminist tripe', 'better off reading his column in womens magazines', 'yea you guys rule', 'didnt like the writing style at all', 'read the first 2 chapters', 'utterly sillygwtws legacy is safe', 'genetics from genes to genomes', 'not enough substance', 'manifesto of liberal pseudoscience', 'sophies choice gone wrong', 'awkward writing makes a bad story even worse', 'sorry guys id have to disagree', 'poor form lacks original research', 'aweful', 'history of the dictionary', 'good book but in the wrong way', 'confused apology for japanese militarism', 'repackaged database marketing', 'where are my red slippers', 'second rate reference book', 'poor parsing of concepts and confusing diagrams', 'was this a novel or a horticulture manual', 'do not waste your money', 'youre kidding me right', 'forget it', 'dont answer it', 'what a crappy book', 'most boring', 'poetry in riis how he oher half lives', 'damaged book', 'inadequate', 'the binding is very bad', 'slow paced', 'not a good book for a beginning geology student', 'i didnt like it', 'too psychologized', 'just plain awful', 'repetitive and redundant', 'morrigans cross', 'better than you sean', 'pleasure reading shouldnt be this painful 0', 'dressed up postmodern metafiction', 'dry boring and unrewarding', 'no help at all', 'posing for high school seniors', 'gary lost christianities', 'incredibly boring', 'good satire awful presentation', 'not quite what it seems', 's is for slow read', 'outdated thy name is the crying of lot 49', 'presumed innocent', 'how did this book get published', 'meandering and plotless', 'read a review article instead', 'generalized overview with little new insight', 'silliness masking as literature', 'omg this is so bad', 'not convincing', 'not great', 'does too much and too little', 'go to the bookstore down the street', 'prosaic', 'the chicken soup for the writingitdown souls', 'just another book in this genre', 'consider this', 'very very disappointing', 'wow', 'not an economic history of money', 'better guides available', 'oldfashioned elitist boredom', 'sluggish uneventful corny and borrrrring', 'harlequin presentsnicholas sparks', 'inaccessible prose', 'author needs his own soapbox', 'unbeliveable', 'not worth the money', 'too many metaphors not enough info', 'dick management yes idiot puritanism no thanks', 'no original material as far as i can tell', 'lacking in details and intimancies', 'the definition of trash', 'how', 'the worst proofed book in the universe', 'my complaint', 'lets correlate joblessness with everything', 'dull trite and disjointed', 'king officially jumps the shark', 'id like to give it zero stars', 'i guess that were the adventure end for me', 'new age tripe', 'not the best', 'not the best', 'dissapointed', 'not very well reasonedpatently unoriginal', 'flowery predictable drivel', 'dragged down by a dead weight of an ending', 'weak cases', 'interesting but lacking', 'the protection of the remnant', 'the rest of the story', 'nothing good to say about the 10th good thing', 'weak link in a great series', 'lacking lots of info', 'fairytaleaficcionado', 'vague and dull', 'good start no finish', 'typical characters fast plot', 'not so good', 'microserfs 20', 'if you like scarpetta', 'worst in ages', 'i just dont understand', 'im throwing this book out', 'unbiblical and bad writing make for one star', 'no temperance here', 'get the whole picture elsewhere', 'convoluted and totally confusing', 'trivial tiresome and tedious', 'sociology more of the same', 'almost as good as hapworth', 'p l e a s e buy something else', 'completely incomprehensible', 'the typesetting for this edition is awful', 'the title for this book is highly inaccurate', 'no match for a great city', 'seemed like he was in a hurry', 'avoid the book and movie', 'rehashed recycled nothing new here', 'garbled and overrated', 'skip it', 'wheres the editor', 'liberal bias complete nonsense', 'description is misleading', 'disappointing story', 'creates more questions than it answers', 'simplistic at best', 'pos', 'not one of his best', 'lots of filllittle thrill', 'lengthy tedious thriller', 'wheres the story', 'dark watcha dud', 'negligent', 'acupressure techniques a self help guide', 'a quick read and a quicker write', 'oh puhleeze', 'sad disappointment', 'a dissapointment', 'get to the point', 'dont waste your money', 'difficult read', 'i dont like this book', 'disappointing', 'theres a sucker born every minute', 'harry potter and the chamber of secrets review', 'an example of nativist bigotry', 'awful', 'what went wrong with the writing of this book', 'no redeeming features', 'disappointing', 'mixed review', 'thank you but no thanks', 'tough language but few verifiable facts', 'nothing doing', 'one of the alltime worst books ive read', 'disappointing', 'coma this is not', 'k is for killer', 'lousy book with a wishful thinking', 'dreaming water', 'thin', 'an historical account', 'good plot but bad details', 'germaine greer elitist poppycock', 'very disappointing', 'please stop putting me to sleep', 'could have been said in half the amount of pages', 'copying david and jonathans example', 'wow its not just me', 'flew has rejected these arguments himself', 'not recommended', 'not for everyone', 'hardcore jargon on intersectional group', 'the narrowminded get it', 'this book is a poorlywritten economic rant', 'good research or', 'the incredible sowhatness of being', 'lacks detail and helpful tips', 'this is disturbing', 'horrible', 'hopefully this series will improve', 'stick to romance sparky', 'i think contracts are not very strong tool', 'worst book in the series including the prequels', 'entirely inaccurate', 'dont waste your money', 'capable but strange', 'mostly useless', 'the only book ive wanted to throw away', 'not for a family with kids', 'surprisingly hyped', 'its over guys', 'not that funny', 'disappointing', 'escaping the massive yawn', 'the old feint and switch', 'filth rot and decay', 'not age appropriate', 'disappointing', 'yawn', 'some merit but overall flawed', 'the elegant gathering of white snows', 'the power of your subconscious mind abridged cd', 'the celts in ireland', 'disappointing', 'narcissistic twaddle', 'simple elegant and wrong', 'not quite what i expected', 'not the great american novel', 'distortion of john e holts public record', 'her weakest by far', 'koffee table gloss', 'where did ja jance go', 'good first effort but needs improvement', 'sex belongs in the bedroom not in the library', 'a find magazine article padded to book length', 'long on drama woefully short on credibility', 'horrible', 'jkg thinks he funny hes not', 'book shows age', 'very disappointing', 'survivor in death', 'cambridges normal skeptical view', 'wade', 'snow white became chuky', 'disappointing', 'shamefully simplistic', 'soul by soul by walter johnson', 'its a waste of money even for beginner', 'disappointing', 'better that you die than survive rape', 'just very odd', 'three junes where did they get that name', 'fun but long', 'could have been great but no cigar', 'just what america needs more rabble rousing', 'really horrible book', 'steve deserves a better effort', 'a review as ugly as this novel', 'cookbook to fancy', 'who are these people kidding', 'ok for general pm concepts', 'i tried', 'this book is not for the novice', 'this man has vanished forever', 'not impressed', 'fictional stories of scientific falshoods', 'there are better options available for readers', 'too expensive', 'too drawn out', 'companion web site not there', 'talk about a tornado in a trailer park', 'dont waste your time', 'terrible for the price', 'now that the dailykos crowd has finished posting', 'totoally unrealistic for the times', 'hardly authentic science', 'editor called to task', 'agenda here', '364 lbs of pure spirtual abuse', 'cant full the chuchu', 'wrong edition', 'disheartened', 'mcjihad vs reality', 'dont fail to read this if youre new to earth', 'brainwashing propaganda but well edited', 'academic', 'a little dry', 'fun but too many flaws', 'short and sweet', 'not for most adults', 'my faith has been shattered', 'meh', 'couldnt get past the first few chapters', 'not worth the time and money', 'discombobulation', 'tediuous repetitive and altogether poorly written', 'out of date', 'trashy like flypaper', 'wolf in sheep skin', 'not one of sparkss best', 'a complete disappointment', 'tony roberts stinks as a rrder', 'too long', 'i am glad i didnt pay for this book', 'quotjust enoughquot is more than enough', 'narcissistic twaddle', 'let me explain why i give it one star', 'a bad choice of plot and character', 'a rather plodding morality tale', 'owen worlds worst husband', 'way too complicated', 'a war criminals memoir of mass murder', 'chloroform in print', 'chased by the light a 90day journey 2001', 'ugggh', '5 stars really', 'complete inability to move the story along', 'too much homoerotica', 'trotsky mass murderer and liar', 'poor excuse for a book', 'not the best selfhelp', 'entertaining but apparently not a scholar', 'great book if you are looking for victim status', 'the bad borin book of evil tricks', 'a b movie in paper form', 'lacking in details and intimancies', 'boring', 'is toni morrison for real', 'dont waste your time', 'manifesto of liberal pseudoscience', 'i expected more', 'like shadow of the wind good with chuckles bad', 'confusing but better than nothing', 'mediocre', 'another awful book', 'the gothic aspects did not work for me', 'where is the quality control', 'basic stuff', 'disappointed', 'astoundingly poor', 'why is the cost so reasonable', 'a terrifying true storya completely mediocre read', 'how to ignore genocide', 'bah correction please', 'the title of the book tells all', 'extremely disappointed couldnt even finish it', 'why is it dragging on and on and on', 'disappointing', 'boring', 'give it a rest alan', 'pollyannaeducation', 'revised review', 'i read this book why', 'a profusion of details lacking significance', 'snore is right', 'willy loman this guy ainy', 'white males only', 'i guess that were the adventure end for me', 'onesided and angry', 'pain as gods megaphone', 'worse than painful', 'i must be missing something', 'one of koontzs worst', 'three junes where did they get that name', 'not for fans of tr', 'lacking in details and intimancies', 'fell well short of my expectations', 'too much french for me', 'nonsense redefined', 'blah blah blah', 'ballz', 'ok but you didnt tell the whole story', 'highly overrated', 'i would have put 0 stars', 'disturbing novel about being above moral law', 'meh', 'only for those with little or no work experience', 'wish i could get my money back', 'nonsense', 'not bad but not really good eithier', 'not christies best', 'bias was offputting', 'black house', 'not for experienced runners', 'stupid book written by a stupid person', 'knew it was bad after three pages', 'not what it appears', 'full of lies propaganda and hate', 'where are the flags and sound effects', 'bettys not what she used to be', 'not much beyond the cute title', 'manufacturing error', 'deeply disappointing dexter', 'e for effort', 'you need more than 8 but good choices', 'profiting from the christian man shortage', 'more errors', 'ruined by its ignorance of female sexuality', 'useless unless', 'terrible', 'poisonous misinformation', 'a classic text superficially updated', 'a real chore to make it through', 'be careful downloading ebooks', 'squeezing spiritual growth into a business box', 'am i still awake', 'one star is one too many', 'unrealistic premise', 'interesting but not an ethics', 'old predictions that have not come true', 'this ones a stinker', 'two stars for evocative writing', 'sorry i spent the time', 'pot noodle bushido', 'just awfulno stars whatsoever', 'yuck yuck and double yuck', 'greatif you are a rich capitalist', 'a bit misleading in the title', 'an absolute abortion', 'too full of jargon for me', 'this book is just not accurate', 'dont buy this rotten book', 'predictable', 'pretty poor effort', 'mixed feelings', 'blach', 'one sided and out dated', 'stick to what you know', 'what forged a nation', 'civilized discourse leaves discontented reader', 'good book bad reading', 'dont buy this book check with the experts instead', 'puhlease felt like was i reading an erotic novel', 'what happened to the good stuff', 'one of the most deceptive books ever written', 'disappointing mystery thriller', 'book never arrived very disappointed', 'a so so novel', 'should get zero stars', 'a sad sf renaissance', 'read because it considered a classic', 'action photos please', 'help please', 'hilariously melodramatic', 'this one misses the mark for me', 'not so good', 'harlequin romance', 'mary mary', 'you must be kidding', 'is there a sequel', 'unfulfilled promise', 'disappointing and lacking something', 'liberals study bible', 'only read half of it', 'is the writer a real believer', 'great read', 'not good for learning ok as a reference book', 'how about a zero star rating', 'formulaic and unsatisfying', 'forsythe drops the ball', 'readable but very disappointing', 'where has the magic gone', 'insufficient research', 'lukewarm reception', 'scholarly but unpersuasive and heavy with details', 'a real slog', 'notsofast', 'not a good martial arts book', 'where are the references', 'enjoyable but not recommended', 'better red than you', 'quotcontractsquot', 'no creativity and not very lasting', 'awakening is inferior to ascension', 'get rid of the glasses', 'not a worthy successor to holy blood holy grail', 'review', 'yep its ok', 'a heartbreaking disappointment', 'disappointing', 'funny book but too many grammar mistakes', 'didnt like book at all', 'i cant really rate this item', 'way too long and repetitive', 'big book of grilling bbq and rotisserie cookbook', 'the egotistical master', 'hardly engaging', 'yuck just a bad book', 'a great effort sadly lacking', 'unbelievable', 'weak and disorganized', 'ironic an unproductive book on productivity', 'an opinion on hendrix far from anything new', 'overrated', 'abstractionist in disguise', 'general and shallow overview', 'i thought id come away with useful information', 'horrible', 'a world of boring a raging sea of boring', 'could have been better', 'disappointing slow clumsy', 'no flavor no color no good', 'no real world relevence', 'tedious film school psychobabble', 'not for 4 year olds', 'great if you have that specific model blackberry', 'ye gods and little children', 'certainly expected more', 'for hardcore fans only', 'a soapbubble book', 'great efforts but lack reality', 'not very satisfying at all', 'half of story is missing', 'lots of not what not to do', 'way too long and repetitive', 'missed the bullseye', 'in a word ego', 'interesting subjects who deserve a better writer', 'disappointment', 'disapointed', 'not a great role model for kids', 'poorly organized', 'reviews by s douglas scotty and hardluck stink', 'lacking in details', 'badly out of date', 'youre advocating illegal acts', 'snake oil', 'dry and dreadful', 'know your woods not after reading this book', 'what a dirty trick', 'what drivel', 'no way', 'for those who prefer speculation to reason', 'a backlash wolf in sheeps clothing', 'over rated', 'yawn', 'look at it from the childs point of view', 'too sexually explicit for my taste', 'why are reviews same for revised edition', 'repulsive', 'misinformation and eurocentric', 'i kept waiting for her to leave him', 'james dobson is a sadist and a pervert', 'strongwilled child', 'california al', 'falco falters', 'boringdont bother with it', 'sounds like the author reviewed this himself', 'raising a feminist', 'a bad way to spend bucks', 'try that again', 'poorly researched and not accurate for many drugs', 'a poor effort', 'violence begets violence', 'somewhat disappointed', 'why continue to be deceived', 'an effort too far in repetitious jargon', 'this book stinks', 'a world of boring a raging sea of boring', 'theres really no age group for this book', 'history by conjecture', 'in way over her head', 'tiptoeing around a teen in training', 'youd think the book would be about natalie', 'very weak and unsupported theory of happiness', 'repackaged prepared foods', 'a bit disappointed', 'diy cover up', 'there are better choices', 'miserable dictionary of doublespeak', 'a nice place to visit', 'boring', 'lacking', 'okay for ideas', 'its just reefer madness']\n"
     ]
    }
   ],
   "source": [
    "data\n",
    "print(data)\n",
    "X = data"
   ]
  },
  {
   "cell_type": "code",
   "execution_count": 23,
   "id": "f325e793",
   "metadata": {},
   "outputs": [
    {
     "name": "stdout",
     "output_type": "stream",
     "text": [
      "[[1. 0.]\n",
      " [1. 0.]\n",
      " [1. 0.]\n",
      " ...\n",
      " [0. 1.]\n",
      " [0. 1.]\n",
      " [0. 1.]]\n"
     ]
    }
   ],
   "source": [
    "labels\n",
    "print(labels)\n",
    "y = labels"
   ]
  },
  {
   "cell_type": "code",
   "execution_count": 24,
   "id": "93994146",
   "metadata": {},
   "outputs": [],
   "source": [
    "#from sklearn.metrics import confusion_matrix, precision_score, recall_score, f1_score"
   ]
  },
  {
   "cell_type": "code",
   "execution_count": 25,
   "id": "8e79395c",
   "metadata": {},
   "outputs": [
    {
     "name": "stdout",
     "output_type": "stream",
     "text": [
      "0.5263157894736842\n",
      "0.7103825136612022\n",
      "0.6046511627906976\n",
      "[[ 59 117]\n",
      " [ 53 130]]\n"
     ]
    }
   ],
   "source": [
    "def assess_model(model,data_test, label_test):\n",
    "    #y_classes = model.predict_classes(data_test, verbose = 0)\n",
    "    #metrics = confusion_metrics(y_classes, label_test)\n",
    "    #print(metrics)\n",
    "    LogisticRegression = model()\n",
    "    LogisticRegression.fit(data_test, to_class(label_test))\n",
    "    y_pred = LogisticRegression.predict(X_test).reshape(-1,1)\n",
    "    print(precision_score(to_class(y_test),y_pred))\n",
    "    print(recall_score(to_class(y_test),y_pred))\n",
    "    print(f1_score(to_class(y_test),y_pred))\n",
    "    print(confusion_matrix(to_class(y_test),y_pred))\n",
    "    \n",
    "assess_model(LogisticRegression, X_train,y_train)"
   ]
  },
  {
   "cell_type": "code",
   "execution_count": 26,
   "id": "dce238b9",
   "metadata": {},
   "outputs": [],
   "source": [
    "from tensorflow.keras.preprocessing.sequence import pad_sequences\n",
    "\n",
    "padded_sequence = pad_sequences(tokenized_data, maxlen=200)"
   ]
  },
  {
   "cell_type": "code",
   "execution_count": 27,
   "id": "2d00864c",
   "metadata": {},
   "outputs": [
    {
     "name": "stdout",
     "output_type": "stream",
     "text": [
      "Model: \"sequential\"\n",
      "_________________________________________________________________\n",
      " Layer (type)                Output Shape              Param #   \n",
      "=================================================================\n",
      " embedding (Embedding)       (None, 4, 100)            143500    \n",
      "                                                                 \n",
      " spatial_dropout1d (SpatialD  (None, 4, 100)           0         \n",
      " ropout1D)                                                       \n",
      "                                                                 \n",
      " lstm (LSTM)                 (None, 32)                17024     \n",
      "                                                                 \n",
      " dense (Dense)               (None, 2)                 66        \n",
      "                                                                 \n",
      "=================================================================\n",
      "Total params: 160,590\n",
      "Trainable params: 160,590\n",
      "Non-trainable params: 0\n",
      "_________________________________________________________________\n",
      "None\n"
     ]
    }
   ],
   "source": [
    "from tensorflow.keras.models import Sequential\n",
    "from tensorflow.keras.layers import LSTM,Dense, Dropout, SpatialDropout1D\n",
    "from tensorflow.keras.layers import Embedding\n",
    "embedding_vector_length = 32\n",
    "model = Sequential()\n",
    "#(1434, 4) (1434, 2)\n",
    "model.add(Embedding(input_dim=1435, output_dim=100, input_length=4))\n",
    "model.add(SpatialDropout1D(0.2))\n",
    "model.add(LSTM(32))\n",
    "#model.add(Dropout(0.2))\n",
    "model.add(Dense(2, activation='softmax'))\n",
    "model.compile(loss='binary_crossentropy',optimizer='adam', metrics=['accuracy'])\n",
    "print(model.summary())"
   ]
  },
  {
   "cell_type": "code",
   "execution_count": 28,
   "id": "098d3ebb",
   "metadata": {},
   "outputs": [
    {
     "name": "stdout",
     "output_type": "stream",
     "text": [
      "Epoch 1/25\n",
      "115/115 [==============================] - 5s 15ms/step - loss: 0.6928 - accuracy: 0.5083 - val_loss: 0.6833 - val_accuracy: 0.5610\n",
      "Epoch 2/25\n",
      "115/115 [==============================] - 1s 7ms/step - loss: 0.6767 - accuracy: 0.5554 - val_loss: 0.6375 - val_accuracy: 0.6690\n",
      "Epoch 3/25\n",
      "115/115 [==============================] - 1s 8ms/step - loss: 0.6525 - accuracy: 0.6042 - val_loss: 0.6351 - val_accuracy: 0.6272\n",
      "Epoch 4/25\n",
      "115/115 [==============================] - 1s 7ms/step - loss: 0.6478 - accuracy: 0.5963 - val_loss: 0.6316 - val_accuracy: 0.6341\n",
      "Epoch 5/25\n",
      "115/115 [==============================] - 1s 8ms/step - loss: 0.6445 - accuracy: 0.5990 - val_loss: 0.6291 - val_accuracy: 0.6411\n",
      "Epoch 6/25\n",
      "115/115 [==============================] - 1s 8ms/step - loss: 0.6389 - accuracy: 0.6181 - val_loss: 0.6402 - val_accuracy: 0.6690\n",
      "Epoch 7/25\n",
      "115/115 [==============================] - 1s 8ms/step - loss: 0.6399 - accuracy: 0.5955 - val_loss: 0.6311 - val_accuracy: 0.6376\n",
      "Epoch 8/25\n",
      "115/115 [==============================] - 1s 8ms/step - loss: 0.6373 - accuracy: 0.6164 - val_loss: 0.6323 - val_accuracy: 0.6272\n",
      "Epoch 9/25\n",
      "115/115 [==============================] - 1s 8ms/step - loss: 0.6368 - accuracy: 0.6225 - val_loss: 0.6314 - val_accuracy: 0.6411\n",
      "Epoch 10/25\n",
      "115/115 [==============================] - 1s 8ms/step - loss: 0.6353 - accuracy: 0.6059 - val_loss: 0.6288 - val_accuracy: 0.6272\n",
      "Epoch 11/25\n",
      "115/115 [==============================] - 1s 8ms/step - loss: 0.6327 - accuracy: 0.6138 - val_loss: 0.6311 - val_accuracy: 0.6829\n",
      "Epoch 12/25\n",
      "115/115 [==============================] - 1s 9ms/step - loss: 0.6301 - accuracy: 0.6094 - val_loss: 0.6311 - val_accuracy: 0.6272\n",
      "Epoch 13/25\n",
      "115/115 [==============================] - 1s 9ms/step - loss: 0.6289 - accuracy: 0.6181 - val_loss: 0.6323 - val_accuracy: 0.6829\n",
      "Epoch 14/25\n",
      "115/115 [==============================] - 1s 11ms/step - loss: 0.6291 - accuracy: 0.6155 - val_loss: 0.6311 - val_accuracy: 0.6341\n",
      "Epoch 15/25\n",
      "115/115 [==============================] - 1s 8ms/step - loss: 0.6249 - accuracy: 0.6146 - val_loss: 0.6358 - val_accuracy: 0.6202\n",
      "Epoch 16/25\n",
      "115/115 [==============================] - 1s 9ms/step - loss: 0.6257 - accuracy: 0.6146 - val_loss: 0.6357 - val_accuracy: 0.6864\n",
      "Epoch 17/25\n",
      "115/115 [==============================] - 1s 9ms/step - loss: 0.6234 - accuracy: 0.6164 - val_loss: 0.6397 - val_accuracy: 0.6655\n",
      "Epoch 18/25\n",
      "115/115 [==============================] - 1s 9ms/step - loss: 0.6205 - accuracy: 0.6155 - val_loss: 0.6365 - val_accuracy: 0.6551\n",
      "Epoch 19/25\n",
      "115/115 [==============================] - 1s 9ms/step - loss: 0.6183 - accuracy: 0.6207 - val_loss: 0.6352 - val_accuracy: 0.6341\n",
      "Epoch 20/25\n",
      "115/115 [==============================] - 1s 8ms/step - loss: 0.6189 - accuracy: 0.6216 - val_loss: 0.6385 - val_accuracy: 0.6864\n",
      "Epoch 21/25\n",
      "115/115 [==============================] - 1s 8ms/step - loss: 0.6168 - accuracy: 0.6303 - val_loss: 0.6364 - val_accuracy: 0.6725\n",
      "Epoch 22/25\n",
      "115/115 [==============================] - 1s 8ms/step - loss: 0.6177 - accuracy: 0.6207 - val_loss: 0.6374 - val_accuracy: 0.6760\n",
      "Epoch 23/25\n",
      "115/115 [==============================] - 1s 8ms/step - loss: 0.6145 - accuracy: 0.6242 - val_loss: 0.6450 - val_accuracy: 0.6829\n",
      "Epoch 24/25\n",
      "115/115 [==============================] - 1s 9ms/step - loss: 0.6129 - accuracy: 0.6242 - val_loss: 0.6367 - val_accuracy: 0.6376\n",
      "Epoch 25/25\n",
      "115/115 [==============================] - 1s 8ms/step - loss: 0.6124 - accuracy: 0.6251 - val_loss: 0.6429 - val_accuracy: 0.6690\n"
     ]
    }
   ],
   "source": [
    "history =model.fit(X_train, y_train, validation_split=0.2, epochs =25, batch_size= 10)"
   ]
  },
  {
   "cell_type": "code",
   "execution_count": 36,
   "id": "d5dbdfbc",
   "metadata": {},
   "outputs": [
    {
     "data": {
      "image/png": "[encoded data removed]",
      "text/plain": [
       "<Figure size 432x288 with 1 Axes>"
      ]
     },
     "metadata": {},
     "output_type": "display_data"
    },
    {
     "data": {
      "image/png": "[encoded data removed]",
      "text/plain": [
       "<Figure size 432x288 with 1 Axes>"
      ]
     },
     "metadata": {},
     "output_type": "display_data"
    },
    {
     "data": {
      "text/plain": [
       "<Figure size 432x288 with 0 Axes>"
      ]
     },
     "metadata": {},
     "output_type": "display_data"
    }
   ],
   "source": [
    "#plotting the Loss and Accuracy graphs.\n",
    "\n",
    "plt.plot(history.history['loss'])\n",
    "plt.title('Loss Graph')\n",
    "plt.ylabel('loss')\n",
    "plt.xlabel('epoch')\n",
    "\n",
    "plt.show()\n",
    "plt.plot(history.history['accuracy'])\n",
    "plt.title('Accuracy graph')\n",
    "plt.ylabel('Accuracy')\n",
    "plt.xlabel('epoch')\n",
    "\n",
    "plt.show()\n",
    "plt.savefig(\"Loss plt\")"
   ]
  },
  {
   "cell_type": "code",
   "execution_count": null,
   "id": "cd4126bd",
   "metadata": {},
   "outputs": [],
   "source": []
  },
  {
   "cell_type": "code",
   "execution_count": null,
   "id": "43d294f7",
   "metadata": {},
   "outputs": [],
   "source": []
  }
 ],
 "metadata": {
  "kernelspec": {
   "display_name": "Python 3",
   "language": "python",
   "name": "python3"
  },
  "language_info": {
   "codemirror_mode": {
    "name": "ipython",
    "version": 3
   },
   "file_extension": ".py",
   "mimetype": "text/x-python",
   "name": "python",
   "nbconvert_exporter": "python",
   "pygments_lexer": "ipython3",
   "version": "3.8.8"
  }
 },
 "nbformat": 4,
 "nbformat_minor": 5
}
